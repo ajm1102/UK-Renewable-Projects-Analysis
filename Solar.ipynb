{
 "cells": [
  {
   "cell_type": "code",
   "execution_count": 1,
   "id": "1bbd5a8a",
   "metadata": {},
   "outputs": [],
   "source": [
    "import pandas as pd\n",
    "import seaborn as sns\n",
    "from datetime import datetime\n",
    "import matplotlib.pyplot as plt\n",
    "import numpy as np"
   ]
  },
  {
   "cell_type": "code",
   "execution_count": 10,
   "id": "ce32522e",
   "metadata": {},
   "outputs": [],
   "source": [
    "# Reduce df to a few important columns\n",
    "df = pd.read_csv(\"repd-october-2022.csv\", encoding='\"ISO-8859-1\"')\n",
    "reduced_df = df[['Ref ID', 'Site Name', 'Technology Type', 'Under Construction', 'Operational','Development Status',\n",
    "                'Country', 'Post Code', 'X-coordinate', 'Y-coordinate', 'Installed Capacity (MWelec)']]\n",
    "\n",
    "# Drop any sites not currently operational\n",
    "reduced_df = reduced_df[(reduced_df['Development Status'] == 'Operational')]\n",
    "\n",
    "# Date time formating on operational column\n",
    "reduced_df['Operational'] = pd.to_datetime(reduced_df['Operational'], dayfirst=True, infer_datetime_format=True, errors='ignore')\n",
    "reduced_df['Under Construction'] = pd.to_datetime(reduced_df['Under Construction'], dayfirst=True, infer_datetime_format=True, errors='ignore')\n",
    "\n",
    "# Drop any sites with unknown energy output\n",
    "reduced_df = reduced_df.dropna(subset = ['Installed Capacity (MWelec)'])"
   ]
  },
  {
   "cell_type": "code",
   "execution_count": 27,
   "id": "feb2790a",
   "metadata": {},
   "outputs": [
    {
     "data": {
      "text/plain": [
       "<AxesSubplot:xlabel='Operational', ylabel='Installed Capacity (MWelec)'>"
      ]
     },
     "execution_count": 27,
     "metadata": {},
     "output_type": "execute_result"
    },
    {
     "data": {
      "image/png": "[encoded data removed]",
      "text/plain": [
       "<Figure size 432x288 with 1 Axes>"
      ]
     },
     "metadata": {
      "needs_background": "light"
     },
     "output_type": "display_data"
    }
   ],
   "source": [
    "# Solar\n",
    "\n",
    "solar_df = reduced_df[reduced_df['Technology Type'].str.contains('Solar Photovoltaics')]\n",
    "solar_year_capacity = solar_df.groupby(pd.Grouper(key='Operational', axis=0, freq='Y')).sum()\n",
    "\n",
    "x_dates = solar_year_capacity.index.strftime('%Y')\n",
    "\n",
    "sns.barplot(x=x_dates, y=solar_year_capacity['Installed Capacity (MWelec)'])\n",
    "\n"
   ]
  },
  {
   "cell_type": "code",
   "execution_count": 12,
   "id": "a0f1bdb2",
   "metadata": {},
   "outputs": [],
   "source": [
    "# 2015\n",
    "solar_df = solar_df.set_index(solar_df['Operational']).sort_index()\n",
    "#solar_df.loc['2015-01-01' : '2016-01-01']['Installed Capacity (MWelec)']\n"
   ]
  },
  {
   "cell_type": "code",
   "execution_count": 13,
   "id": "4e7a8fb3",
   "metadata": {},
   "outputs": [
    {
     "data": {
      "text/plain": [
       "Operational\n",
       "2011-06-24   2011-06-24\n",
       "2011-07-01   2011-07-01\n",
       "2011-07-01   2011-07-01\n",
       "2011-07-01   2011-07-01\n",
       "2011-07-01   2011-07-01\n",
       "                ...    \n",
       "NaT                 NaT\n",
       "NaT                 NaT\n",
       "NaT                 NaT\n",
       "NaT                 NaT\n",
       "NaT                 NaT\n",
       "Name: Operational, Length: 1239, dtype: datetime64[ns]"
      ]
     },
     "execution_count": 13,
     "metadata": {},
     "output_type": "execute_result"
    }
   ],
   "source": [
    "solar_df['Operational']"
   ]
  },
  {
   "cell_type": "code",
   "execution_count": 20,
   "id": "20e2a273",
   "metadata": {},
   "outputs": [
    {
     "name": "stderr",
     "output_type": "stream",
     "text": [
      "C:\\Users\\AidanLaptop\\AppData\\Local\\Temp\\ipykernel_5960\\3928062436.py:6: SettingWithCopyWarning: \n",
      "A value is trying to be set on a copy of a slice from a DataFrame.\n",
      "Try using .loc[row_indexer,col_indexer] = value instead\n",
      "\n",
      "See the caveats in the documentation: https://pandas.pydata.org/pandas-docs/stable/user_guide/indexing.html#returning-a-view-versus-a-copy\n",
      "  reduced_df2['Under Construction'] = pd.to_datetime(reduced_df2['Under Construction'], dayfirst=True, infer_datetime_format=True, errors='ignore')\n"
     ]
    }
   ],
   "source": [
    "# Reduce df to a few important columns\n",
    "df = pd.read_csv(\"repd-october-2022.csv\", encoding='\"ISO-8859-1\"')\n",
    "reduced_df2 = df[['Ref ID', 'Site Name', 'Technology Type', 'Under Construction', 'Operational','Development Status',\n",
    "                'Country', 'Post Code', 'X-coordinate', 'Y-coordinate', 'Installed Capacity (MWelec)']]\n",
    "\n",
    "reduced_df2['Under Construction'] = pd.to_datetime(reduced_df2['Under Construction'], dayfirst=True, infer_datetime_format=True, errors='ignore')\n",
    "\n",
    "reduced_df2= reduced_df2[reduced_df2['Development Status'] == 'Under Construction']\n",
    "\n",
    "solar_construction_df = reduced_df2[reduced_df2['Technology Type'].str.contains('Solar Photovoltaics')]\n"
   ]
  },
  {
   "cell_type": "code",
   "execution_count": 25,
   "id": "adad81b3",
   "metadata": {},
   "outputs": [
    {
     "data": {
      "text/plain": [
       "87     2015-11-17\n",
       "128    2016-08-01\n",
       "267    2016-05-01\n",
       "315    2016-04-11\n",
       "435    2021-05-01\n",
       "          ...    \n",
       "7756   2022-08-08\n",
       "7757   2022-04-01\n",
       "7771   2022-08-01\n",
       "7833   2022-09-01\n",
       "7880   2020-07-01\n",
       "Name: Under Construction, Length: 221, dtype: datetime64[ns]"
      ]
     },
     "execution_count": 25,
     "metadata": {},
     "output_type": "execute_result"
    }
   ],
   "source": [
    "reduced_df2['Under Construction']"
   ]
  },
  {
   "cell_type": "code",
   "execution_count": 28,
   "id": "fb5fa691",
   "metadata": {},
   "outputs": [
    {
     "data": {
      "text/plain": [
       "<AxesSubplot:xlabel='Under Construction', ylabel='Installed Capacity (MWelec)'>"
      ]
     },
     "execution_count": 28,
     "metadata": {},
     "output_type": "execute_result"
    },
    {
     "data": {
      "image/png": "[encoded data removed]",
      "text/plain": [
       "<Figure size 432x288 with 1 Axes>"
      ]
     },
     "metadata": {
      "needs_background": "light"
     },
     "output_type": "display_data"
    }
   ],
   "source": [
    "solar_construction_year_capacity = solar_construction_df.groupby(pd.Grouper(key='Under Construction', axis=0, freq='Y')).sum()\n",
    "\n",
    "x_dates = solar_construction_year_capacity.index.strftime('%Y')\n",
    "\n",
    "sns.barplot(x=x_dates, y=solar_construction_year_capacity['Installed Capacity (MWelec)'])"
   ]
  },
  {
   "cell_type": "code",
   "execution_count": null,
   "id": "b51bfb1e",
   "metadata": {},
   "outputs": [],
   "source": [
    "solar_construction_df['Under Construction']"
   ]
  },
  {
   "cell_type": "code",
   "execution_count": null,
   "id": "e6de4628",
   "metadata": {},
   "outputs": [],
   "source": [
    "solar_df"
   ]
  },
  {
   "cell_type": "code",
   "execution_count": null,
   "id": "ed62b358",
   "metadata": {},
   "outputs": [],
   "source": []
  }
 ],
 "metadata": {
  "kernelspec": {
   "display_name": "Python 3 (ipykernel)",
   "language": "python",
   "name": "python3"
  },
  "language_info": {
   "codemirror_mode": {
    "name": "ipython",
    "version": 3
   },
   "file_extension": ".py",
   "mimetype": "text/x-python",
   "name": "python",
   "nbconvert_exporter": "python",
   "pygments_lexer": "ipython3",
   "version": "3.10.5"
  }
 },
 "nbformat": 4,
 "nbformat_minor": 5
}
